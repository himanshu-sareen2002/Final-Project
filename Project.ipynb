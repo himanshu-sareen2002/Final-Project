{
 "cells": [
  {
   "cell_type": "code",
   "execution_count": 3,
   "id": "d4753102-ee01-4437-b3b0-667d430e5ca2",
   "metadata": {},
   "outputs": [],
   "source": [
    "import pandas as pd\n",
    "import numpy as np\n",
    "import matplotlib.pyplot as plt\n",
    "import seaborn as sns"
   ]
  },
  {
   "cell_type": "code",
   "execution_count": 4,
   "id": "aa485501-e319-4a98-8430-3f87dabe72d7",
   "metadata": {},
   "outputs": [],
   "source": [
    "df = pd.read_csv(\"Shark Tank India.csv\") "
   ]
  },
  {
   "cell_type": "code",
   "execution_count": 5,
   "id": "259d5c71-a34b-4d60-b595-839eb5ab3585",
   "metadata": {},
   "outputs": [
    {
     "data": {
      "text/html": [
       "<div>\n",
       "<style scoped>\n",
       "    .dataframe tbody tr th:only-of-type {\n",
       "        vertical-align: middle;\n",
       "    }\n",
       "\n",
       "    .dataframe tbody tr th {\n",
       "        vertical-align: top;\n",
       "    }\n",
       "\n",
       "    .dataframe thead th {\n",
       "        text-align: right;\n",
       "    }\n",
       "</style>\n",
       "<table border=\"1\" class=\"dataframe\">\n",
       "  <thead>\n",
       "    <tr style=\"text-align: right;\">\n",
       "      <th></th>\n",
       "      <th>Season Number</th>\n",
       "      <th>Startup Name</th>\n",
       "      <th>Episode Number</th>\n",
       "      <th>Pitch Number</th>\n",
       "      <th>Season Start</th>\n",
       "      <th>Season End</th>\n",
       "      <th>Original Air Date</th>\n",
       "      <th>Episode Title</th>\n",
       "      <th>Anchor</th>\n",
       "      <th>Industry</th>\n",
       "      <th>...</th>\n",
       "      <th>Invested Guest Name</th>\n",
       "      <th>All Guest Names</th>\n",
       "      <th>Namita Present</th>\n",
       "      <th>Vineeta Present</th>\n",
       "      <th>Anupam Present</th>\n",
       "      <th>Aman Present</th>\n",
       "      <th>Peyush Present</th>\n",
       "      <th>Ritesh Present</th>\n",
       "      <th>Amit Present</th>\n",
       "      <th>Guest Present</th>\n",
       "    </tr>\n",
       "  </thead>\n",
       "  <tbody>\n",
       "    <tr>\n",
       "      <th>0</th>\n",
       "      <td>1</td>\n",
       "      <td>BluePineFoods</td>\n",
       "      <td>1</td>\n",
       "      <td>1</td>\n",
       "      <td>20-Dec-21</td>\n",
       "      <td>4-Feb-22</td>\n",
       "      <td>20-Dec-21</td>\n",
       "      <td>Badlegi Business Ki Tasveer</td>\n",
       "      <td>Rannvijay Singh</td>\n",
       "      <td>Food and Beverage</td>\n",
       "      <td>...</td>\n",
       "      <td>Ashneer Grover</td>\n",
       "      <td>Ashneer Grover</td>\n",
       "      <td>1.0</td>\n",
       "      <td>1.0</td>\n",
       "      <td>1.0</td>\n",
       "      <td>1.0</td>\n",
       "      <td>NaN</td>\n",
       "      <td>NaN</td>\n",
       "      <td>NaN</td>\n",
       "      <td>1.0</td>\n",
       "    </tr>\n",
       "    <tr>\n",
       "      <th>1</th>\n",
       "      <td>1</td>\n",
       "      <td>BoozScooters</td>\n",
       "      <td>1</td>\n",
       "      <td>2</td>\n",
       "      <td>20-Dec-21</td>\n",
       "      <td>4-Feb-22</td>\n",
       "      <td>20-Dec-21</td>\n",
       "      <td>Badlegi Business Ki Tasveer</td>\n",
       "      <td>Rannvijay Singh</td>\n",
       "      <td>Vehicles/Electrical Vehicles</td>\n",
       "      <td>...</td>\n",
       "      <td>Ashneer Grover</td>\n",
       "      <td>Ashneer Grover</td>\n",
       "      <td>1.0</td>\n",
       "      <td>1.0</td>\n",
       "      <td>1.0</td>\n",
       "      <td>1.0</td>\n",
       "      <td>NaN</td>\n",
       "      <td>NaN</td>\n",
       "      <td>NaN</td>\n",
       "      <td>1.0</td>\n",
       "    </tr>\n",
       "    <tr>\n",
       "      <th>2</th>\n",
       "      <td>1</td>\n",
       "      <td>HeartUpMySleeves</td>\n",
       "      <td>1</td>\n",
       "      <td>3</td>\n",
       "      <td>20-Dec-21</td>\n",
       "      <td>4-Feb-22</td>\n",
       "      <td>20-Dec-21</td>\n",
       "      <td>Badlegi Business Ki Tasveer</td>\n",
       "      <td>Rannvijay Singh</td>\n",
       "      <td>Beauty/Fashion</td>\n",
       "      <td>...</td>\n",
       "      <td>NaN</td>\n",
       "      <td>Ashneer Grover</td>\n",
       "      <td>1.0</td>\n",
       "      <td>1.0</td>\n",
       "      <td>1.0</td>\n",
       "      <td>1.0</td>\n",
       "      <td>NaN</td>\n",
       "      <td>NaN</td>\n",
       "      <td>NaN</td>\n",
       "      <td>1.0</td>\n",
       "    </tr>\n",
       "    <tr>\n",
       "      <th>3</th>\n",
       "      <td>1</td>\n",
       "      <td>TagzFoods</td>\n",
       "      <td>2</td>\n",
       "      <td>4</td>\n",
       "      <td>20-Dec-21</td>\n",
       "      <td>4-Feb-22</td>\n",
       "      <td>21-Dec-21</td>\n",
       "      <td>Insaan, Ideas Aur Sapne</td>\n",
       "      <td>Rannvijay Singh</td>\n",
       "      <td>Food and Beverage</td>\n",
       "      <td>...</td>\n",
       "      <td>Ashneer Grover</td>\n",
       "      <td>Ashneer Grover</td>\n",
       "      <td>1.0</td>\n",
       "      <td>1.0</td>\n",
       "      <td>1.0</td>\n",
       "      <td>1.0</td>\n",
       "      <td>NaN</td>\n",
       "      <td>NaN</td>\n",
       "      <td>NaN</td>\n",
       "      <td>1.0</td>\n",
       "    </tr>\n",
       "    <tr>\n",
       "      <th>4</th>\n",
       "      <td>1</td>\n",
       "      <td>HeadAndHeart</td>\n",
       "      <td>2</td>\n",
       "      <td>5</td>\n",
       "      <td>20-Dec-21</td>\n",
       "      <td>4-Feb-22</td>\n",
       "      <td>21-Dec-21</td>\n",
       "      <td>Insaan, Ideas Aur Sapne</td>\n",
       "      <td>Rannvijay Singh</td>\n",
       "      <td>Children/Education</td>\n",
       "      <td>...</td>\n",
       "      <td>NaN</td>\n",
       "      <td>Ashneer Grover</td>\n",
       "      <td>1.0</td>\n",
       "      <td>1.0</td>\n",
       "      <td>1.0</td>\n",
       "      <td>1.0</td>\n",
       "      <td>NaN</td>\n",
       "      <td>NaN</td>\n",
       "      <td>NaN</td>\n",
       "      <td>1.0</td>\n",
       "    </tr>\n",
       "  </tbody>\n",
       "</table>\n",
       "<p>5 rows × 80 columns</p>\n",
       "</div>"
      ],
      "text/plain": [
       "   Season Number      Startup Name  Episode Number  Pitch Number Season Start  \\\n",
       "0              1     BluePineFoods               1             1    20-Dec-21   \n",
       "1              1      BoozScooters               1             2    20-Dec-21   \n",
       "2              1  HeartUpMySleeves               1             3    20-Dec-21   \n",
       "3              1         TagzFoods               2             4    20-Dec-21   \n",
       "4              1      HeadAndHeart               2             5    20-Dec-21   \n",
       "\n",
       "  Season End Original Air Date                Episode Title           Anchor  \\\n",
       "0   4-Feb-22         20-Dec-21  Badlegi Business Ki Tasveer  Rannvijay Singh   \n",
       "1   4-Feb-22         20-Dec-21  Badlegi Business Ki Tasveer  Rannvijay Singh   \n",
       "2   4-Feb-22         20-Dec-21  Badlegi Business Ki Tasveer  Rannvijay Singh   \n",
       "3   4-Feb-22         21-Dec-21      Insaan, Ideas Aur Sapne  Rannvijay Singh   \n",
       "4   4-Feb-22         21-Dec-21      Insaan, Ideas Aur Sapne  Rannvijay Singh   \n",
       "\n",
       "                       Industry  ... Invested Guest Name All Guest Names  \\\n",
       "0             Food and Beverage  ...      Ashneer Grover  Ashneer Grover   \n",
       "1  Vehicles/Electrical Vehicles  ...      Ashneer Grover  Ashneer Grover   \n",
       "2                Beauty/Fashion  ...                 NaN  Ashneer Grover   \n",
       "3             Food and Beverage  ...      Ashneer Grover  Ashneer Grover   \n",
       "4            Children/Education  ...                 NaN  Ashneer Grover   \n",
       "\n",
       "   Namita Present  Vineeta Present  Anupam Present  Aman Present  \\\n",
       "0             1.0              1.0             1.0           1.0   \n",
       "1             1.0              1.0             1.0           1.0   \n",
       "2             1.0              1.0             1.0           1.0   \n",
       "3             1.0              1.0             1.0           1.0   \n",
       "4             1.0              1.0             1.0           1.0   \n",
       "\n",
       "   Peyush Present  Ritesh Present Amit Present Guest Present  \n",
       "0             NaN             NaN          NaN           1.0  \n",
       "1             NaN             NaN          NaN           1.0  \n",
       "2             NaN             NaN          NaN           1.0  \n",
       "3             NaN             NaN          NaN           1.0  \n",
       "4             NaN             NaN          NaN           1.0  \n",
       "\n",
       "[5 rows x 80 columns]"
      ]
     },
     "execution_count": 5,
     "metadata": {},
     "output_type": "execute_result"
    }
   ],
   "source": [
    "df.head()"
   ]
  },
  {
   "cell_type": "code",
   "execution_count": 6,
   "id": "f3852665-d944-4a9f-ab64-37d3152802f6",
   "metadata": {},
   "outputs": [
    {
     "data": {
      "text/plain": [
       "Season Number       int64\n",
       "Startup Name       object\n",
       "Episode Number      int64\n",
       "Pitch Number        int64\n",
       "Season Start       object\n",
       "                   ...   \n",
       "Aman Present      float64\n",
       "Peyush Present    float64\n",
       "Ritesh Present    float64\n",
       "Amit Present      float64\n",
       "Guest Present     float64\n",
       "Length: 80, dtype: object"
      ]
     },
     "execution_count": 6,
     "metadata": {},
     "output_type": "execute_result"
    }
   ],
   "source": [
    "df.dtypes"
   ]
  },
  {
   "cell_type": "code",
   "execution_count": 7,
   "id": "2f5989a3-2f7f-405f-8eda-491ab9de63a1",
   "metadata": {},
   "outputs": [
    {
     "name": "stdout",
     "output_type": "stream",
     "text": [
      "<class 'pandas.core.frame.DataFrame'>\n",
      "RangeIndex: 634 entries, 0 to 633\n",
      "Data columns (total 80 columns):\n",
      " #   Column                     Non-Null Count  Dtype  \n",
      "---  ------                     --------------  -----  \n",
      " 0   Season Number              634 non-null    int64  \n",
      " 1   Startup Name               634 non-null    object \n",
      " 2   Episode Number             634 non-null    int64  \n",
      " 3   Pitch Number               634 non-null    int64  \n",
      " 4   Season Start               634 non-null    object \n",
      " 5   Season End                 478 non-null    object \n",
      " 6   Original Air Date          603 non-null    object \n",
      " 7   Episode Title              634 non-null    object \n",
      " 8   Anchor                     634 non-null    object \n",
      " 9   Industry                   634 non-null    object \n",
      " 10  Business Description       634 non-null    object \n",
      " 11  Company Website            618 non-null    object \n",
      " 12  Started in                 456 non-null    float64\n",
      " 13  Number of Presenters       634 non-null    int64  \n",
      " 14  Male Presenters            568 non-null    float64\n",
      " 15  Female Presenters          382 non-null    float64\n",
      " 16  Transgender Presenters     3 non-null      float64\n",
      " 17  Couple Presenters          634 non-null    int64  \n",
      " 18  Pitchers Average Age       634 non-null    object \n",
      " 19  Pitchers City              626 non-null    object \n",
      " 20  Pitchers State             629 non-null    object \n",
      " 21  Yearly Revenue             343 non-null    float64\n",
      " 22  Monthly Sales              287 non-null    float64\n",
      " 23  Gross Margin               162 non-null    float64\n",
      " 24  Net Margin                 93 non-null     float64\n",
      " 25  EBITDA                     81 non-null     float64\n",
      " 26  Cash Burn                  97 non-null     object \n",
      " 27  SKUs                       43 non-null     float64\n",
      " 28  Has Patents                62 non-null     object \n",
      " 29  Bootstrapped               114 non-null    object \n",
      " 30  Part of Match off          6 non-null      object \n",
      " 31  Original Ask Amount        634 non-null    float64\n",
      " 32  Original Offered Equity    634 non-null    float64\n",
      " 33  Valuation Requested        634 non-null    float64\n",
      " 34  Received Offer             634 non-null    int64  \n",
      " 35  Accepted Offer             423 non-null    float64\n",
      " 36  Total Deal Amount          360 non-null    float64\n",
      " 37  Total Deal Equity          360 non-null    float64\n",
      " 38  Total Deal Debt            75 non-null     float64\n",
      " 39  Debt Interest              58 non-null     float64\n",
      " 40  Deal Valuation             359 non-null    float64\n",
      " 41  Number of Sharks in Deal   360 non-null    float64\n",
      " 42  Deal Has Conditions        37 non-null     object \n",
      " 43  Royalty Percentage         36 non-null     float64\n",
      " 44  Royalty Recouped Amount    36 non-null     float64\n",
      " 45  Advisory Shares Equity     11 non-null     float64\n",
      " 46  Namita Investment Amount   114 non-null    float64\n",
      " 47  Namita Investment Equity   114 non-null    float64\n",
      " 48  Namita Debt Amount         21 non-null     float64\n",
      " 49  Vineeta Investment Amount  89 non-null     float64\n",
      " 50  Vineeta Investment Equity  89 non-null     float64\n",
      " 51  Vineeta Debt Amount        15 non-null     float64\n",
      " 52  Anupam Investment Amount   102 non-null    float64\n",
      " 53  Anupam Investment Equity   102 non-null    float64\n",
      " 54  Anupam Debt Amount         9 non-null      float64\n",
      " 55  Aman Investment Amount     141 non-null    float64\n",
      " 56  Aman Investment Equity     141 non-null    float64\n",
      " 57  Aman Debt Amount           19 non-null     float64\n",
      " 58  Peyush Investment Amount   104 non-null    float64\n",
      " 59  Peyush Investment Equity   104 non-null    float64\n",
      " 60  Peyush Debt Amount         13 non-null     float64\n",
      " 61  Ritesh Investment Amount   52 non-null     float64\n",
      " 62  Ritesh Investment Equity   52 non-null     float64\n",
      " 63  Ritesh Debt Amount         14 non-null     float64\n",
      " 64  Amit Investment Amount     35 non-null     float64\n",
      " 65  Amit Investment Equity     35 non-null     float64\n",
      " 66  Amit Debt Amount           7 non-null      float64\n",
      " 67  Guest Investment Amount    63 non-null     float64\n",
      " 68  Guest Investment Equity    63 non-null     float64\n",
      " 69  Guest Debt Amount          6 non-null      float64\n",
      " 70  Invested Guest Name        63 non-null     object \n",
      " 71  All Guest Names            311 non-null    object \n",
      " 72  Namita Present             495 non-null    float64\n",
      " 73  Vineeta Present            428 non-null    float64\n",
      " 74  Anupam Present             548 non-null    float64\n",
      " 75  Aman Present               556 non-null    float64\n",
      " 76  Peyush Present             388 non-null    float64\n",
      " 77  Ritesh Present             138 non-null    float64\n",
      " 78  Amit Present               137 non-null    float64\n",
      " 79  Guest Present              311 non-null    float64\n",
      "dtypes: float64(55), int64(6), object(19)\n",
      "memory usage: 396.4+ KB\n"
     ]
    },
    {
     "data": {
      "text/plain": [
       "Season Number       4\n",
       "Startup Name      634\n",
       "Episode Number     53\n",
       "Pitch Number      634\n",
       "Season Start        4\n",
       "                 ... \n",
       "Aman Present        1\n",
       "Peyush Present      1\n",
       "Ritesh Present      1\n",
       "Amit Present        1\n",
       "Guest Present       2\n",
       "Length: 80, dtype: int64"
      ]
     },
     "execution_count": 7,
     "metadata": {},
     "output_type": "execute_result"
    }
   ],
   "source": [
    "df.head()\n",
    "df.info()\n",
    "df.describe()\n",
    "df.isnull().sum()\n",
    "df.nunique()\n"
   ]
  },
  {
   "cell_type": "code",
   "execution_count": 10,
   "id": "3c197e2d-02e2-4c12-beaa-6442999d650d",
   "metadata": {},
   "outputs": [
    {
     "data": {
      "text/plain": [
       "Season Number       0\n",
       "Startup Name        0\n",
       "Episode Number      0\n",
       "Pitch Number        0\n",
       "Season Start        0\n",
       "                 ... \n",
       "Aman Present       78\n",
       "Peyush Present    246\n",
       "Ritesh Present    496\n",
       "Amit Present      497\n",
       "Guest Present     323\n",
       "Length: 80, dtype: int64"
      ]
     },
     "execution_count": 10,
     "metadata": {},
     "output_type": "execute_result"
    }
   ],
   "source": [
    "df.isnull().sum()"
   ]
  },
  {
   "cell_type": "code",
   "execution_count": 9,
   "id": "e99d0e67-8841-4c12-9d54-95da78b3ae5a",
   "metadata": {},
   "outputs": [
    {
     "data": {
      "text/plain": [
       "Industry\n",
       "Beauty/Fashion             5938.00000\n",
       "Food and Beverage          5367.60005\n",
       "Medical/Health             3383.00101\n",
       "Technology/Software        2887.00000\n",
       "Manufacturing              1631.00000\n",
       "Business Services          1365.00000\n",
       "Lifestyle/Home             1140.00000\n",
       "Fitness/Sports/Outdoors    1105.00000\n",
       "Children/Education         1086.00000\n",
       "Green/CleanTech             685.01250\n",
       "Name: Total Deal Amount, dtype: float64"
      ]
     },
     "execution_count": 9,
     "metadata": {},
     "output_type": "execute_result"
    }
   ],
   "source": [
    "industry_investment = df.groupby('Industry')['Total Deal Amount'].sum().sort_values(ascending=False)\n",
    "industry_investment.head(10)\n"
   ]
  },
  {
   "cell_type": "code",
   "execution_count": 11,
   "id": "207bebfb-fc4c-478d-9cbb-2fac9ae83685",
   "metadata": {},
   "outputs": [
    {
     "name": "stdout",
     "output_type": "stream",
     "text": [
      "Number of null values in 'Total Deal Amount': 274\n"
     ]
    }
   ],
   "source": [
    "null_count = df['Total Deal Amount'].isnull().sum()\n",
    "print(f\"Number of null values in 'Total Deal Amount': {null_count}\")"
   ]
  },
  {
   "cell_type": "code",
   "execution_count": 13,
   "id": "19762d1b-3876-438e-8329-453efcead56e",
   "metadata": {},
   "outputs": [
    {
     "name": "stdout",
     "output_type": "stream",
     "text": [
      "0\n"
     ]
    }
   ],
   "source": [
    "# Calculate the mean of 'Total Deal Amount' excluding nulls\n",
    "mean_value = df['Total Deal Amount'].mean()\n",
    "\n",
    "# Fill null values with the mean\n",
    "df['Total Deal Amount'].fillna(mean_value)\n",
    "\n",
    "# Check if nulls are removed\n",
    "print(df['Total Deal Amount'].isnull().sum())\n"
   ]
  },
  {
   "cell_type": "code",
   "execution_count": 14,
   "id": "8c76c2f0-4004-4485-bca0-911a1b2f105d",
   "metadata": {},
   "outputs": [
    {
     "data": {
      "text/plain": [
       "Industry\n",
       "Beauty/Fashion                  9807.723385\n",
       "Food and Beverage               9748.418977\n",
       "Technology/Software             4493.300273\n",
       "Medical/Health                  4478.205742\n",
       "Manufacturing                   3529.354868\n",
       "Business Services               3117.327571\n",
       "Lifestyle/Home                  3038.354868\n",
       "Children/Education              1743.122839\n",
       "Fitness/Sports/Outdoors         1397.054595\n",
       "Vehicles/Electrical Vehicles    1221.136488\n",
       "Name: Total Deal Amount, dtype: float64"
      ]
     },
     "execution_count": 14,
     "metadata": {},
     "output_type": "execute_result"
    }
   ],
   "source": [
    "industry_investment = df.groupby('Industry')['Total Deal Amount'].sum().sort_values(ascending=False)\n",
    "industry_investment.head(10)\n"
   ]
  },
  {
   "cell_type": "code",
   "execution_count": 15,
   "id": "e45acb69-ad20-40d1-98d1-74f41709fed5",
   "metadata": {},
   "outputs": [],
   "source": [
    "# Convert Pitchers Average Age to numeric (cleaning)\n",
    "df['Pitchers Average Age'] = pd.to_numeric(df['Pitchers Average Age'], errors='coerce')\n",
    "\n",
    "# Gender-based investment\n",
    "gender_success = df.groupby(['Male Presenters', 'Female Presenters'])['Total Deal Amount'].sum()\n",
    "\n",
    "# Age vs Deal\n",
    "age_vs_deal = df.groupby('Pitchers Average Age')['Total Deal Amount'].mean().dropna().sort_values(ascending=False)\n"
   ]
  },
  {
   "cell_type": "code",
   "execution_count": 16,
   "id": "3ab029ff-34c1-497b-a785-bd4a2771d5e8",
   "metadata": {},
   "outputs": [
    {
     "data": {
      "text/html": [
       "<div>\n",
       "<style scoped>\n",
       "    .dataframe tbody tr th:only-of-type {\n",
       "        vertical-align: middle;\n",
       "    }\n",
       "\n",
       "    .dataframe tbody tr th {\n",
       "        vertical-align: top;\n",
       "    }\n",
       "\n",
       "    .dataframe thead th {\n",
       "        text-align: right;\n",
       "    }\n",
       "</style>\n",
       "<table border=\"1\" class=\"dataframe\">\n",
       "  <thead>\n",
       "    <tr style=\"text-align: right;\">\n",
       "      <th></th>\n",
       "      <th>Valuation Requested</th>\n",
       "      <th>Deal Valuation</th>\n",
       "      <th>Total Deal Amount</th>\n",
       "    </tr>\n",
       "  </thead>\n",
       "  <tbody>\n",
       "    <tr>\n",
       "      <th>count</th>\n",
       "      <td>634.000000</td>\n",
       "      <td>359.000000</td>\n",
       "      <td>634.000000</td>\n",
       "    </tr>\n",
       "    <tr>\n",
       "      <th>mean</th>\n",
       "      <td>5299.153323</td>\n",
       "      <td>2479.379763</td>\n",
       "      <td>73.013649</td>\n",
       "    </tr>\n",
       "    <tr>\n",
       "      <th>std</th>\n",
       "      <td>8253.239217</td>\n",
       "      <td>3342.992929</td>\n",
       "      <td>41.667775</td>\n",
       "    </tr>\n",
       "    <tr>\n",
       "      <th>min</th>\n",
       "      <td>0.000000</td>\n",
       "      <td>0.000000</td>\n",
       "      <td>0.000000</td>\n",
       "    </tr>\n",
       "    <tr>\n",
       "      <th>25%</th>\n",
       "      <td>1250.000000</td>\n",
       "      <td>500.000000</td>\n",
       "      <td>50.000000</td>\n",
       "    </tr>\n",
       "    <tr>\n",
       "      <th>50%</th>\n",
       "      <td>3000.000000</td>\n",
       "      <td>1250.000000</td>\n",
       "      <td>73.013649</td>\n",
       "    </tr>\n",
       "    <tr>\n",
       "      <th>75%</th>\n",
       "      <td>6000.000000</td>\n",
       "      <td>2992.537313</td>\n",
       "      <td>73.013649</td>\n",
       "    </tr>\n",
       "    <tr>\n",
       "      <th>max</th>\n",
       "      <td>120000.000000</td>\n",
       "      <td>25000.000000</td>\n",
       "      <td>500.000000</td>\n",
       "    </tr>\n",
       "  </tbody>\n",
       "</table>\n",
       "</div>"
      ],
      "text/plain": [
       "       Valuation Requested  Deal Valuation  Total Deal Amount\n",
       "count           634.000000      359.000000         634.000000\n",
       "mean           5299.153323     2479.379763          73.013649\n",
       "std            8253.239217     3342.992929          41.667775\n",
       "min               0.000000        0.000000           0.000000\n",
       "25%            1250.000000      500.000000          50.000000\n",
       "50%            3000.000000     1250.000000          73.013649\n",
       "75%            6000.000000     2992.537313          73.013649\n",
       "max          120000.000000    25000.000000         500.000000"
      ]
     },
     "execution_count": 16,
     "metadata": {},
     "output_type": "execute_result"
    }
   ],
   "source": [
    "funding_success = df[['Valuation Requested', 'Deal Valuation', 'Total Deal Amount']]\n",
    "funding_success.describe()\n"
   ]
  },
  {
   "cell_type": "code",
   "execution_count": 17,
   "id": "a84a83ae-6056-48d8-8fe1-bdf93a735d30",
   "metadata": {},
   "outputs": [],
   "source": [
    "shark_columns = [col for col in df.columns if 'Investment Amount' in col]\n",
    "shark_investments = df[shark_columns].sum().sort_values(ascending=False)\n"
   ]
  },
  {
   "cell_type": "code",
   "execution_count": 19,
   "id": "b75d7316-3dd8-40eb-9395-fba9c85929bd",
   "metadata": {},
   "outputs": [],
   "source": [
    "selected_cols = [\n",
    "    'Startup Name', 'Industry', 'Total Deal Amount', 'Valuation Requested',\n",
    "    'Deal Valuation', 'Pitchers Average Age', 'Male Presenters', 'Female Presenters',\n",
    "    'Original Ask Amount', 'Original Offered Equity', 'Season Number'\n",
    "]\n",
    "clean_df = df[selected_cols].copy()\n",
    "clean_df['Pitchers Average Age'] = pd.to_numeric(clean_df['Pitchers Average Age'], errors='coerce')\n",
    "\n",
    "# Export for Power BI\n",
    "# Save to current directory\n",
    "df.to_csv(\"cleaned_shark_tank_data.csv\", index=False)\n"
   ]
  },
  {
   "cell_type": "code",
   "execution_count": null,
   "id": "94fd27df-4027-4247-9e49-5f2c1ffef345",
   "metadata": {},
   "outputs": [],
   "source": []
  }
 ],
 "metadata": {
  "kernelspec": {
   "display_name": "Python 3 (ipykernel)",
   "language": "python",
   "name": "python3"
  },
  "language_info": {
   "codemirror_mode": {
    "name": "ipython",
    "version": 3
   },
   "file_extension": ".py",
   "mimetype": "text/x-python",
   "name": "python",
   "nbconvert_exporter": "python",
   "pygments_lexer": "ipython3",
   "version": "3.13.3"
  }
 },
 "nbformat": 4,
 "nbformat_minor": 5
}
